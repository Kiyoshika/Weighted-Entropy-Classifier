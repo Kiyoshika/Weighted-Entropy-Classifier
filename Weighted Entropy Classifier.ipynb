{
 "cells": [
  {
   "cell_type": "code",
   "execution_count": 1261,
   "id": "6d0df48d",
   "metadata": {},
   "outputs": [],
   "source": [
    "import numpy as np\n",
    "import pandas as pd\n",
    "from sklearn.datasets import make_classification, make_blobs, make_moons, make_circles\n",
    "from sklearn.metrics import confusion_matrix, roc_auc_score\n",
    "from sklearn.naive_bayes import GaussianNB\n",
    "from sklearn.linear_model import LogisticRegression\n",
    "from imblearn.over_sampling import SMOTE, RandomOverSampler\n",
    "from imblearn.combine import SMOTETomek\n",
    "from imblearn.under_sampling import RandomUnderSampler\n",
    "from sklearn.model_selection import train_test_split\n",
    "from sklearn.neighbors import KNeighborsClassifier\n",
    "import matplotlib.pyplot as plt\n",
    "import seaborn as sns"
   ]
  },
  {
   "cell_type": "code",
   "execution_count": 1597,
   "id": "9305a519",
   "metadata": {},
   "outputs": [],
   "source": [
    "data = make_classification(n_features = 80, n_samples = 2000, n_informative = 5, n_redundant = 3, class_sep = 0.4, weights=[0.15, 0.85])"
   ]
  },
  {
   "cell_type": "code",
   "execution_count": 1598,
   "id": "8a6fd344",
   "metadata": {},
   "outputs": [],
   "source": [
    "xtrain, xtest, ytrain, ytest = train_test_split(data[0], data[1], test_size = 0.3)"
   ]
  },
  {
   "cell_type": "code",
   "execution_count": 1599,
   "id": "820fa7fc",
   "metadata": {},
   "outputs": [],
   "source": [
    "xtrain_res, ytrain_res = RandomUnderSampler(sampling_strategy = 'majority').fit_resample(xtrain, ytrain)"
   ]
  },
  {
   "cell_type": "code",
   "execution_count": 1600,
   "id": "f4e841ec",
   "metadata": {},
   "outputs": [
    {
     "data": {
      "text/plain": [
       "array([[  7,  86],\n",
       "       [  1, 506]], dtype=int64)"
      ]
     },
     "execution_count": 1600,
     "metadata": {},
     "output_type": "execute_result"
    }
   ],
   "source": [
    "confusion_matrix(ytest, LogisticRegression(max_iter=1000).fit(xtrain, ytrain).predict(xtest))"
   ]
  },
  {
   "cell_type": "code",
   "execution_count": 1601,
   "id": "b96c6959",
   "metadata": {},
   "outputs": [
    {
     "data": {
      "text/plain": [
       "array([[ 67,  26],\n",
       "       [276, 231]], dtype=int64)"
      ]
     },
     "execution_count": 1601,
     "metadata": {},
     "output_type": "execute_result"
    }
   ],
   "source": [
    "confusion_matrix(ytest, LogisticRegression(max_iter=1000).fit(xtrain_res, ytrain_res).predict(xtest))"
   ]
  },
  {
   "cell_type": "code",
   "execution_count": null,
   "id": "567a0c87",
   "metadata": {},
   "outputs": [],
   "source": []
  },
  {
   "cell_type": "code",
   "execution_count": null,
   "id": "a0e3a95c",
   "metadata": {},
   "outputs": [],
   "source": []
  },
  {
   "cell_type": "code",
   "execution_count": 1555,
   "id": "01e9371e",
   "metadata": {},
   "outputs": [
    {
     "data": {
      "text/plain": [
       "array([[ 29,  61],\n",
       "       [ 52, 458]], dtype=int64)"
      ]
     },
     "execution_count": 1555,
     "metadata": {},
     "output_type": "execute_result"
    }
   ],
   "source": [
    "confusion_matrix(ytest, GaussianNB().fit(xtrain, ytrain).predict(xtest))"
   ]
  },
  {
   "cell_type": "code",
   "execution_count": 1567,
   "id": "f8dede28",
   "metadata": {},
   "outputs": [
    {
     "data": {
      "text/plain": [
       "array([[ 56,  34],\n",
       "       [175, 335]], dtype=int64)"
      ]
     },
     "execution_count": 1567,
     "metadata": {},
     "output_type": "execute_result"
    }
   ],
   "source": [
    "confusion_matrix(ytest, GaussianNB().fit(xtrain_res, ytrain_res).predict(xtest))"
   ]
  },
  {
   "cell_type": "code",
   "execution_count": 1202,
   "id": "f5fce7fb",
   "metadata": {},
   "outputs": [],
   "source": [
    "from scipy.stats import norm, entropy, gaussian_kde"
   ]
  },
  {
   "cell_type": "code",
   "execution_count": 1602,
   "id": "5bd0ea36",
   "metadata": {},
   "outputs": [],
   "source": [
    "class WeightedEntropyClassifier:\n",
    "    minority_class = None\n",
    "    majority_class = None\n",
    "    use_normal = False\n",
    "    proportions = []\n",
    "    \n",
    "    def __init__(self, use_normal = False):\n",
    "        self.use_normal = use_normal\n",
    "        \n",
    "    # get entropy weights (e.g, \"fitting\" the model)\n",
    "    def fit(self, xtrain, ytrain, use_normal = False):\n",
    "        full_train = pd.DataFrame(np.concatenate((xtrain, ytrain.reshape(-1,1)), axis=1))\n",
    "        full_train.columns = [*full_train.columns[:-1], 'target']\n",
    "        self.minority_class = full_train[full_train.target == 0]\n",
    "        self.majority_class = full_train[full_train.target == 1]\n",
    "\n",
    "        feature_max_entropy = []\n",
    "        # clear proportions vector to \"refit\" model (if already fitted)\n",
    "        self.proportions = []\n",
    "\n",
    "        for i in range(xtrain.shape[1]):\n",
    "            current_feature = i\n",
    "            points = np.linspace(min(min(self.minority_class.iloc[:,current_feature]), min(self.majority_class.iloc[:,current_feature])), max(max(self.minority_class.iloc[:,current_feature]), max(self.majority_class.iloc[:,current_feature])), 50)\n",
    "            if self.use_normal == True:\n",
    "                min_pdf = norm.pdf(points, loc = np.mean(self.minority_class.iloc[:,current_feature]), scale = np.std(self.minority_class.iloc[:,current_feature]))\n",
    "                maj_pdf = norm.pdf(points, loc = np.mean(self.majority_class.iloc[:,current_feature]), scale = np.std(self.majority_class.iloc[:,current_feature]))\n",
    "            else:\n",
    "                min_pdf = gaussian_kde(self.minority_class.iloc[:,current_feature]).evaluate(points)\n",
    "                maj_pdf = gaussian_kde(self.majority_class.iloc[:,current_feature]).evaluate(points)\n",
    "                # relative entropy is not commutative\n",
    "                entrp =  max(entropy(min_pdf, maj_pdf), entropy(maj_pdf, min_pdf))\n",
    "                feature_max_entropy.append(entrp)\n",
    "\n",
    "        for fme in feature_max_entropy:\n",
    "                self.proportions.append(fme / sum(feature_max_entropy))\n",
    "\n",
    "    # compare new data points with weighted entropies and likelihood\n",
    "    def predict(self, xtest, min_bias = 0, maj_bias = 0):\n",
    "        preds = []\n",
    "        for i in range(xtest.shape[0]):\n",
    "            min_score = 0\n",
    "            maj_score = 0\n",
    "            for j in range(len(self.proportions)):\n",
    "                data_point = xtest[i][j]\n",
    "                if self.use_normal == True:\n",
    "                    min_score += self.proportions[j]*norm.pdf(data_point, loc = np.mean(self.minority_class.iloc[:,j]), scale = np.std(self.minority_class.iloc[:,j]))\n",
    "                    maj_score += self.proportions[j]*norm.pdf(data_point, loc = np.mean(self.majority_class.iloc[:,j]), scale = np.std(self.majority_class.iloc[:,j]))\n",
    "                else:\n",
    "                    min_score += self.proportions[j]*gaussian_kde(self.minority_class.iloc[:,j]).evaluate(data_point)\n",
    "                    maj_score += self.proportions[j]*gaussian_kde(self.majority_class.iloc[:,j]).evaluate(data_point)\n",
    "            preds.append(np.argmax([min_score + min_bias, maj_score + maj_bias]))\n",
    "\n",
    "        return preds"
   ]
  },
  {
   "cell_type": "code",
   "execution_count": 1611,
   "id": "0420dff6",
   "metadata": {},
   "outputs": [],
   "source": [
    "wec = WeightedEntropyClassifier()\n",
    "wec.fit(xtrain_res[:,selected_feats], ytrain_res)"
   ]
  },
  {
   "cell_type": "code",
   "execution_count": 1634,
   "id": "1482b2ad",
   "metadata": {},
   "outputs": [],
   "source": [
    "mypreds = wec.predict(xtest[:,selected_feats], min_bias = 0.02, maj_bias = 0.01)"
   ]
  },
  {
   "cell_type": "code",
   "execution_count": 1635,
   "id": "d5e8cccd",
   "metadata": {},
   "outputs": [
    {
     "data": {
      "text/plain": [
       "array([[ 49,  44],\n",
       "       [165, 342]], dtype=int64)"
      ]
     },
     "execution_count": 1635,
     "metadata": {},
     "output_type": "execute_result"
    }
   ],
   "source": [
    "confusion_matrix(ytest, mypreds)"
   ]
  },
  {
   "cell_type": "code",
   "execution_count": 1609,
   "id": "6be2cb39",
   "metadata": {},
   "outputs": [
    {
     "data": {
      "text/plain": [
       "[0.010063729692778226,\n",
       " 0.003093895323275523,\n",
       " 0.005803595718118471,\n",
       " 0.011733614642745553,\n",
       " 0.0037222767352874902,\n",
       " 0.006104648574081191,\n",
       " 0.006860177961012832,\n",
       " 0.00700967765397867,\n",
       " 0.015379389456804058,\n",
       " 0.013955950988463316,\n",
       " 0.01134431069732189,\n",
       " 0.015933815476529563,\n",
       " 0.006102526162443828,\n",
       " 0.031898354689956054,\n",
       " 0.006567671170839126,\n",
       " 0.015283740269908787,\n",
       " 0.04199528560315403,\n",
       " 0.006495814281874749,\n",
       " 0.0029049848171185918,\n",
       " 0.004569179443700789,\n",
       " 0.006147697412063598,\n",
       " 0.003489406713163303,\n",
       " 0.004043037505978401,\n",
       " 0.009724445915576396,\n",
       " 0.004017918125390716,\n",
       " 0.004348075862064463,\n",
       " 0.003684463492318325,\n",
       " 0.0018484966472288205,\n",
       " 0.005303526354525885,\n",
       " 0.0038049187479611214,\n",
       " 0.0056048833416901265,\n",
       " 0.021606592174664468,\n",
       " 0.01941441107853151,\n",
       " 0.0057848195823186005,\n",
       " 0.011030493347722567,\n",
       " 0.003629044976086319,\n",
       " 0.004751460960514179,\n",
       " 0.0039933389532311354,\n",
       " 0.006882224237559627,\n",
       " 0.0039582750729574845,\n",
       " 0.0027941181174918244,\n",
       " 0.008731751658328119,\n",
       " 0.020430465497193965,\n",
       " 0.012355285095207995,\n",
       " 0.004654202225508503,\n",
       " 0.007532881896671007,\n",
       " 0.005875690862479894,\n",
       " 0.01111647140580703,\n",
       " 0.013838723034161449,\n",
       " 0.0112276499086184,\n",
       " 0.0088031064445799,\n",
       " 0.007532501046033472,\n",
       " 0.01143119027897304,\n",
       " 0.012889573589924035,\n",
       " 0.0036334126911432966,\n",
       " 0.005506394690731627,\n",
       " 0.0028388841298184154,\n",
       " 0.004071626230319812,\n",
       " 0.02168114544953718,\n",
       " 0.0027832029243913463,\n",
       " 0.052729031107796864,\n",
       " 0.0159687901684177,\n",
       " 0.0035223652378189923,\n",
       " 0.005486853509080621,\n",
       " 0.0038164439139893322,\n",
       " 0.023433958278201356,\n",
       " 0.013865310621034964,\n",
       " 0.007948120947118902,\n",
       " 0.008021535376585127,\n",
       " 0.01870620638522244,\n",
       " 0.0056938795257786955,\n",
       " 0.01825858082840988,\n",
       " 0.008130352792140819,\n",
       " 0.0023653818805157707,\n",
       " 0.01092686303638849,\n",
       " 0.004821450358789559,\n",
       " 0.018600008094315355,\n",
       " 0.22467631461394294,\n",
       " 0.0027136466015637056,\n",
       " 0.0106964596850284]"
      ]
     },
     "execution_count": 1609,
     "metadata": {},
     "output_type": "execute_result"
    }
   ],
   "source": [
    "wec.proportions"
   ]
  },
  {
   "cell_type": "code",
   "execution_count": 1610,
   "id": "c83d6f95",
   "metadata": {},
   "outputs": [
    {
     "name": "stdout",
     "output_type": "stream",
     "text": [
      "Total selected features:  2\n"
     ]
    }
   ],
   "source": [
    "selected_feats = []\n",
    "for i in range(len(wec.proportions)):\n",
    "    if wec.proportions[i] >= 0.05:\n",
    "        selected_feats.append(i)\n",
    "        \n",
    "print(\"Total selected features: \", len(selected_feats))"
   ]
  }
 ],
 "metadata": {
  "kernelspec": {
   "display_name": "Python 3",
   "language": "python",
   "name": "python3"
  },
  "language_info": {
   "codemirror_mode": {
    "name": "ipython",
    "version": 3
   },
   "file_extension": ".py",
   "mimetype": "text/x-python",
   "name": "python",
   "nbconvert_exporter": "python",
   "pygments_lexer": "ipython3",
   "version": "3.9.4"
  }
 },
 "nbformat": 4,
 "nbformat_minor": 5
}
